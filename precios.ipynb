{
 "cells": [
  {
   "cell_type": "markdown",
   "metadata": {},
   "source": [
    "## Red Neuronal para el calculo de venta de departamento"
   ]
  },
  {
   "cell_type": "code",
   "execution_count": 1,
   "metadata": {},
   "outputs": [],
   "source": [
    "import numpy as np\n",
    "import tensorflow as tf\n",
    "import matplotlib.pyplot as plt"
   ]
  },
  {
   "cell_type": "code",
   "execution_count": null,
   "metadata": {},
   "outputs": [],
   "source": [
    "\"\"\"\"ciudad(0),area(m2),num habitaciones,num planta, ascensor(0,1),exterior(0,1),estado(0,1,2), centrico(0,1)\n",
    "\"\"\""
   ]
  },
  {
   "cell_type": "code",
   "execution_count": 2,
   "metadata": {},
   "outputs": [],
   "source": [
    "datos=np.array([(0,54,2,4,0,1,0,0),\n",
    "                (0,152,2,14,1,1,3,1),\n",
    "                (0,64,3,4,0,1,0,0),\n",
    "                (0,154,5,4,1,1,1,1),\n",
    "                (0,100,1,5,1,1,1,0),\n",
    "                (0,140,5,2,1,1,2,0),\n",
    "                (0,120,3,2,1,1,1,1),\n",
    "                (0,70,2,3,1,1,1,0),\n",
    "                (0,60,2,2,0,1,1,1),\n",
    "                (0,129,3,18,1,1,2,1),\n",
    "                (0,93,1,3,1,1,2,0),\n",
    "                (0,52,2,2,0,1,1,1),\n",
    "                (0,110,3,5,1,1,1,1),\n",
    "                (0,63,3,2,1,1,1,0),\n",
    "                (0,160,1,4,1,1,2,0)])\n",
    "precios=np.array([750,2000,650,1500,900,1000,1300,750,900,1800,975,880,1400,750,1850])"
   ]
  },
  {
   "cell_type": "code",
   "execution_count": 3,
   "metadata": {},
   "outputs": [
    {
     "name": "stderr",
     "output_type": "stream",
     "text": [
      "c:\\Users\\ESTUDIANTE\\AppData\\Local\\Programs\\Python\\Python312\\Lib\\site-packages\\keras\\src\\layers\\core\\dense.py:87: UserWarning: Do not pass an `input_shape`/`input_dim` argument to a layer. When using Sequential models, prefer using an `Input(shape)` object as the first layer in the model instead.\n",
      "  super().__init__(activity_regularizer=activity_regularizer, **kwargs)\n"
     ]
    }
   ],
   "source": [
    "capaEntrada=tf.keras.layers.Dense(units=8,input_shape=[8])\n",
    "capaOculta=tf.keras.layers.Dense(units=16)\n",
    "capaSalida=tf.keras.layers.Dense(units=1)\n",
    "modelo=tf.keras.Sequential([capaEntrada,capaOculta,capaSalida])"
   ]
  },
  {
   "cell_type": "code",
   "execution_count": 4,
   "metadata": {},
   "outputs": [],
   "source": [
    "modelo.compile(\n",
    "    optimizer=tf.keras.optimizers.Adam(0.2),\n",
    "    loss='mean_squared_error'\n",
    ")"
   ]
  },
  {
   "cell_type": "code",
   "execution_count": 5,
   "metadata": {},
   "outputs": [
    {
     "name": "stdout",
     "output_type": "stream",
     "text": [
      "Inicio de entrenamiento...\n",
      "Modelo entrenado....\n"
     ]
    }
   ],
   "source": [
    "print(\"Inicio de entrenamiento...\")\n",
    "historial=modelo.fit(datos,precios,epochs=1000,verbose=False)\n",
    "print(\"Modelo entrenado....\")"
   ]
  },
  {
   "cell_type": "code",
   "execution_count": 6,
   "metadata": {},
   "outputs": [
    {
     "data": {
      "text/plain": [
       "<function matplotlib.pyplot.show(close=None, block=None)>"
      ]
     },
     "execution_count": 6,
     "metadata": {},
     "output_type": "execute_result"
    },
    {
     "data": {
      "image/png": "[encoded data removed]",
      "text/plain": [
       "<Figure size 640x480 with 1 Axes>"
      ]
     },
     "metadata": {},
     "output_type": "display_data"
    }
   ],
   "source": [
    "plt.xlabel(\"# epocas\")\n",
    "plt.ylabel(\"Magnitud de perdidad\")\n",
    "plt.plot(historial.history['loss'])\n",
    "plt.show"
   ]
  },
  {
   "cell_type": "code",
   "execution_count": 7,
   "metadata": {},
   "outputs": [
    {
     "name": "stderr",
     "output_type": "stream",
     "text": [
      "WARNING:absl:You are saving your model as an HDF5 file via `model.save()` or `keras.saving.save_model(model)`. This file format is considered legacy. We recommend using instead the native Keras format, e.g. `model.save('my_model.keras')` or `keras.saving.save_model(model, 'my_model.keras')`. \n"
     ]
    }
   ],
   "source": [
    "modelo.save(\"precio.h5\")"
   ]
  }
 ],
 "metadata": {
  "kernelspec": {
   "display_name": "Python 3",
   "language": "python",
   "name": "python3"
  },
  "language_info": {
   "codemirror_mode": {
    "name": "ipython",
    "version": 3
   },
   "file_extension": ".py",
   "mimetype": "text/x-python",
   "name": "python",
   "nbconvert_exporter": "python",
   "pygments_lexer": "ipython3",
   "version": "3.12.5"
  }
 },
 "nbformat": 4,
 "nbformat_minor": 2
}
